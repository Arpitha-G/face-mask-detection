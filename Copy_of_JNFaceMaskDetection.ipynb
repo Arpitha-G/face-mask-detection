{
  "cells": [
    {
      "cell_type": "markdown",
      "metadata": {
        "id": "view-in-github",
        "colab_type": "text"
      },
      "source": [
        "<a href=\"https://colab.research.google.com/github/Arpitha-G/face-mask-detection/blob/main/Copy_of_JNFaceMaskDetection.ipynb\" target=\"_parent\"><img src=\"https://colab.research.google.com/assets/colab-badge.svg\" alt=\"Open In Colab\"/></a>"
      ]
    },
    {
      "cell_type": "code",
      "execution_count": null,
      "metadata": {
        "id": "bBx5K7TWM1T4",
        "outputId": "9eb521f9-57d0-456e-bf2d-5b2bd1237f2a"
      },
      "outputs": [
        {
          "name": "stdout",
          "output_type": "stream",
          "text": [
            "Hey email is sent\n",
            "Hey email is sent\n",
            "Hey email is sent\n",
            "Hey email is sent\n",
            "Hey email is sent\n",
            "Hey email is sent\n"
          ]
        },
        {
          "ename": "error",
          "evalue": "OpenCV(4.5.1) C:\\Users\\appveyor\\AppData\\Local\\Temp\\1\\pip-req-build-oduouqig\\opencv\\modules\\imgproc\\src\\color.cpp:182: error: (-215:Assertion failed) !_src.empty() in function 'cv::cvtColor'\n",
          "output_type": "error",
          "traceback": [
            "\u001b[1;31m---------------------------------------------------------------------------\u001b[0m",
            "\u001b[1;31merror\u001b[0m                                     Traceback (most recent call last)",
            "\u001b[1;32m<ipython-input-1-340123d53036>\u001b[0m in \u001b[0;36m<module>\u001b[1;34m\u001b[0m\n\u001b[0;32m     33\u001b[0m \u001b[1;33m\u001b[0m\u001b[0m\n\u001b[0;32m     34\u001b[0m     \u001b[0mret\u001b[0m\u001b[1;33m,\u001b[0m \u001b[0mimg\u001b[0m \u001b[1;33m=\u001b[0m \u001b[0mvid_source\u001b[0m\u001b[1;33m.\u001b[0m\u001b[0mread\u001b[0m\u001b[1;33m(\u001b[0m\u001b[1;33m)\u001b[0m\u001b[1;33m\u001b[0m\u001b[1;33m\u001b[0m\u001b[0m\n\u001b[1;32m---> 35\u001b[1;33m     \u001b[0mgrayscale_img\u001b[0m \u001b[1;33m=\u001b[0m \u001b[0mcv2\u001b[0m\u001b[1;33m.\u001b[0m\u001b[0mcvtColor\u001b[0m\u001b[1;33m(\u001b[0m\u001b[0mimg\u001b[0m\u001b[1;33m,\u001b[0m\u001b[0mcv2\u001b[0m\u001b[1;33m.\u001b[0m\u001b[0mCOLOR_BGR2GRAY\u001b[0m\u001b[1;33m)\u001b[0m\u001b[1;33m\u001b[0m\u001b[1;33m\u001b[0m\u001b[0m\n\u001b[0m\u001b[0;32m     36\u001b[0m     \u001b[0mfaces\u001b[0m \u001b[1;33m=\u001b[0m \u001b[0mface_det_classifier\u001b[0m\u001b[1;33m.\u001b[0m\u001b[0mdetectMultiScale\u001b[0m\u001b[1;33m(\u001b[0m\u001b[0mgrayscale_img\u001b[0m\u001b[1;33m,\u001b[0m\u001b[1;36m1.3\u001b[0m\u001b[1;33m,\u001b[0m\u001b[1;36m5\u001b[0m\u001b[1;33m)\u001b[0m\u001b[1;33m\u001b[0m\u001b[1;33m\u001b[0m\u001b[0m\n\u001b[0;32m     37\u001b[0m \u001b[1;33m\u001b[0m\u001b[0m\n",
            "\u001b[1;31merror\u001b[0m: OpenCV(4.5.1) C:\\Users\\appveyor\\AppData\\Local\\Temp\\1\\pip-req-build-oduouqig\\opencv\\modules\\imgproc\\src\\color.cpp:182: error: (-215:Assertion failed) !_src.empty() in function 'cv::cvtColor'\n"
          ]
        }
      ],
      "source": [
        "\n",
        "# Import necessary linbraries\n",
        "from keras.models import load_model\n",
        "import cv2\n",
        "import numpy as np\n",
        "import tkinter\n",
        "from tkinter import messagebox\n",
        "import smtplib\n",
        "\n",
        "# Initialize Tkinter\n",
        "root = tkinter.Tk()\n",
        "root.withdraw()\n",
        "\n",
        "#Load trained deep learning model\n",
        "model = load_model('face_mask_detection_alert_system.h5')\n",
        "\n",
        "#Classifier to detect face\n",
        "face_det_classifier=cv2.CascadeClassifier('haarcascade_frontalface_default.xml')\n",
        "\n",
        "# Capture Video\n",
        "vid_source=cv2.VideoCapture(0)\n",
        "\n",
        "# Dictionaries containing details of Wearing Mask and Color of rectangle around face. If wearing mask then color would be \n",
        "# green and if not wearing mask then color of rectangle around face would be red\n",
        "text_dict={0:'Mask ON',1:'No Mask'}\n",
        "rect_color_dict={0:(0,255,0),1:(0,0,255)}\n",
        "\n",
        "SUBJECT = \"Subject\"   \n",
        "TEXT = \"One Visitor violated Face Mask Policy. See in the camera to recognize user. A Person has been detected without a face mask in the Hotel Lobby Area 9. Please Alert the authorities.\"\n",
        " \n",
        "\n",
        "# While Loop to continuously detect camera feed\n",
        "while(True):\n",
        "\n",
        "    ret, img = vid_source.read()\n",
        "    grayscale_img = cv2.cvtColor(img,cv2.COLOR_BGR2GRAY)\n",
        "    faces = face_det_classifier.detectMultiScale(grayscale_img,1.3,5)  \n",
        "\n",
        "    for (x,y,w,h) in faces:\n",
        "    \n",
        "        face_img = grayscale_img[y:y+w,x:x+w]\n",
        "        resized_img = cv2.resize(face_img,(112,112))\n",
        "        normalized_img = resized_img/255.0\n",
        "        reshaped_img = np.reshape(normalized_img,(1,112,112,1))\n",
        "        result=model.predict(reshaped_img)\n",
        "\n",
        "        label=np.argmax(result,axis=1)[0]\n",
        "      \n",
        "        cv2.rectangle(img,(x,y),(x+w,y+h),rect_color_dict[label],2)\n",
        "        cv2.rectangle(img,(x,y-40),(x+w,y),rect_color_dict[label],-1)\n",
        "        cv2.putText(img, text_dict[label], (x, y-10),cv2.FONT_HERSHEY_SIMPLEX,0.8,(0,0,0),2) \n",
        "        \n",
        "        # If label = 1 then it means wearing No Mask and 0 means wearing Mask\n",
        "        if (label == 1):\n",
        "            # Throw a Warning Message to tell user to wear a mask if not wearing one. This will stay\n",
        "            #open and No Access will be given He/She wears the mask\n",
        "           messagebox.showwarning(\"Warning\",\"Access Denied. Please wear a Face Mask\")\n",
        "            \n",
        "            #Send an email to the administrator if access denied/user not wearing face mask \n",
        "  #          message = 'Subject: {}\\n\\n{}'.format(SUBJECT, TEXT)\n",
        "   #         mail = smtplib.SMTP('smtp.gmail.com', 587)\n",
        "    #        mail.ehlo()\n",
        "     #       mail.starttls()\n",
        "      #      mail.login('mask.detection.sdmcet@gmail.com','mask@sdmcet')\n",
        "       #     mail.sendmail('mask.detection.sdmcet@gmail.com','gs00619@gmail.com',message)\n",
        "        #    mail.close\n",
        "  \n",
        "           server = smtplib.SMTP('smtp.gmail.com', 587)  #smptlib function use karke gmail.com ko connect karna gmail ke liye 587 dalna hai dusre website ka dusra hi rehtha\n",
        "           server.ehlo()  #connection establish karta ha handshake signal type\n",
        "           server.starttls()   #insecure cnnection ko secure kuch karta hai\n",
        "           server.ehlo()  #wapas \n",
        "           server.login('amazontracker.by.gshetty@gmail.com','bowpngwzsvywbzcm')  \n",
        "\n",
        "        # subject ='Sir your product price felldown!!!!!'\n",
        "  #  body= 'Sir as u mentioned the price of your Selected product is less than your budget i.e \\n\\nCheck amazon Link \\n\\n'+URL+''\n",
        "           msg = f'subject:{SUBJECT}\\n\\n{TEXT}'\n",
        "\n",
        "           server.sendmail('amazontracker.by.ganeshshetty@gmail.com','gs00619@gmail',msg)\n",
        "\n",
        "           print('Hey email is sent')\n",
        "           server.quit()\n",
        "        else:\n",
        "            pass\n",
        "            break\n",
        "\n",
        "    cv2.imshow('LIVE Video Feed',img)\n",
        "    key=cv2.waitKey(1)\n",
        "    \n",
        "    if(key==27):\n",
        "        break\n",
        "        \n",
        "cv2.destroyAllWindows()\n",
        "source.release()\n",
        "\n",
        "\n"
      ]
    },
    {
      "cell_type": "code",
      "execution_count": null,
      "metadata": {
        "id": "-k0SWFlCM1UF"
      },
      "outputs": [],
      "source": []
    }
  ],
  "metadata": {
    "kernelspec": {
      "display_name": "Python 3",
      "language": "python",
      "name": "python3"
    },
    "language_info": {
      "codemirror_mode": {
        "name": "ipython",
        "version": 3
      },
      "file_extension": ".py",
      "mimetype": "text/x-python",
      "name": "python",
      "nbconvert_exporter": "python",
      "pygments_lexer": "ipython3",
      "version": "3.7.3"
    },
    "colab": {
      "provenance": [],
      "include_colab_link": true
    }
  },
  "nbformat": 4,
  "nbformat_minor": 0
}